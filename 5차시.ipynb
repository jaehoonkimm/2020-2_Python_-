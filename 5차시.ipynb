{
 "cells": [
  {
   "cell_type": "markdown",
   "metadata": {},
   "source": [
    "### 예외처리\n",
    "\n",
    "##### 만약에 사용자가, 개발자가 의도한대로 사용하지 않을때, 프로그램이 뻗는 것을 방지하기 위해, 예외적인 상황에 대해 미리 대비하는 것"
   ]
  },
  {
   "cell_type": "markdown",
   "metadata": {},
   "source": [
    "### 1. 조건문으로 예외처리하기"
   ]
  },
  {
   "cell_type": "code",
   "execution_count": 7,
   "metadata": {
    "scrolled": true
   },
   "outputs": [
    {
     "name": "stdout",
     "output_type": "stream",
     "text": [
      "더하고 싶은 첫번째 숫자를 입력해주세요(반드시 0~9까지)3\n",
      "더하고 싶은 두번째 숫자를 입력해주세요(반드시 0~9까지)5\n",
      "35\n"
     ]
    }
   ],
   "source": [
    "num_1 = input(\"더하고 싶은 첫번째 숫자를 입력해주세요(반드시 0~9까지)\")\n",
    "num_2 = input(\"더하고 싶은 두번째 숫자를 입력해주세요(반드시 0~9까지)\")\n",
    "\n",
    "\n",
    "\n",
    "if((num_1 or num_2) not int):\n",
    "    print(1)\n",
    "print(num_1 + num_2)"
   ]
  },
  {
   "cell_type": "code",
   "execution_count": null,
   "metadata": {},
   "outputs": [],
   "source": []
  },
  {
   "cell_type": "code",
   "execution_count": 13,
   "metadata": {},
   "outputs": [
    {
     "name": "stdout",
     "output_type": "stream",
     "text": [
      "True\n",
      "True\n",
      "False\n"
     ]
    }
   ],
   "source": [
    "print(True or True)\n",
    "print(True or False)\n",
    "print(False or False)"
   ]
  },
  {
   "cell_type": "code",
   "execution_count": 14,
   "metadata": {},
   "outputs": [
    {
     "name": "stdout",
     "output_type": "stream",
     "text": [
      "True\n",
      "False\n",
      "False\n"
     ]
    }
   ],
   "source": [
    "print(True and True)\n",
    "print(False and False)\n",
    "print(False and True)"
   ]
  },
  {
   "cell_type": "markdown",
   "metadata": {},
   "source": [
    "### 2. Try - Except 문으로 예외처리하기"
   ]
  },
  {
   "cell_type": "code",
   "execution_count": 30,
   "metadata": {},
   "outputs": [
    {
     "name": "stdout",
     "output_type": "stream",
     "text": [
      "더하고 싶은 숫자를 입력해주세요(반드시 0~9까지)3\n",
      "6\n",
      "더하고 싶은 숫자를 입력해주세요(반드시 0~9까지)!$$!%$^$&%^#$%@#$!\n"
     ]
    }
   ],
   "source": [
    "for i in range(2):\n",
    "    try:\n",
    "        num = int(input(\"더하고 싶은 숫자를 입력해주세요(반드시 0~9까지)\"))\n",
    "        result = num + num\n",
    "        print(result)\n",
    "    except:\n",
    "        pass\n",
    "    "
   ]
  },
  {
   "cell_type": "code",
   "execution_count": null,
   "metadata": {},
   "outputs": [],
   "source": []
  },
  {
   "cell_type": "markdown",
   "metadata": {},
   "source": [
    "## 사용자 정의 함수"
   ]
  },
  {
   "cell_type": "code",
   "execution_count": 31,
   "metadata": {},
   "outputs": [
    {
     "name": "stdout",
     "output_type": "stream",
     "text": [
      "안녕\n"
     ]
    }
   ],
   "source": [
    "print(\"안녕\")"
   ]
  },
  {
   "cell_type": "code",
   "execution_count": 32,
   "metadata": {},
   "outputs": [],
   "source": [
    "# print()\n",
    "# parameter를 Return해주는 함수"
   ]
  },
  {
   "cell_type": "code",
   "execution_count": 35,
   "metadata": {},
   "outputs": [
    {
     "name": "stdout",
     "output_type": "stream",
     "text": [
      "더하고 싶은 첫번째 숫자를 입력해주세요(반드시 0~9까지)3\n",
      "더하고 싶은 두번째 숫자를 입력해주세요(반드시 0~9까지)5\n",
      "8\n"
     ]
    }
   ],
   "source": [
    "num_1 = input(\"더하고 싶은 첫번째 숫자를 입력해주세요(반드시 0~9까지)\")\n",
    "num_2 = input(\"더하고 싶은 두번째 숫자를 입력해주세요(반드시 0~9까지)\")\n",
    "print(int(num_1) + int(num_2))"
   ]
  },
  {
   "cell_type": "code",
   "execution_count": null,
   "metadata": {},
   "outputs": [],
   "source": [
    "for i in range(5):\n",
    "    num_1 = input(\"더하고 싶은 첫번째 숫자를 입력해주세요(반드시 0~9까지)\")\n",
    "    num_2 = input(\"더하고 싶은 두번째 숫자를 입력해주세요(반드시 0~9까지)\")\n",
    "    print(int(num_1) + int(num_2))"
   ]
  },
  {
   "cell_type": "code",
   "execution_count": null,
   "metadata": {},
   "outputs": [],
   "source": [
    "num_1 = input(\"더하고 싶은 첫번째 숫자를 입력해주세요(반드시 0~9까지)\")\n",
    "num_2 = input(\"더하고 싶은 두번째 숫자를 입력해주세요(반드시 0~9까지)\")\n",
    "print(int(num_1) + int(num_2))\n",
    "\n",
    "num_1 = input(\"더하고 싶은 첫번째 숫자를 입력해주세요(반드시 0~9까지)\")\n",
    "num_2 = input(\"더하고 싶은 두번째 숫자를 입력해주세요(반드시 0~9까지)\")\n",
    "print(int(num_1) + int(num_2))\n",
    "\n",
    "num_1 = input(\"더하고 싶은 첫번째 숫자를 입력해주세요(반드시 0~9까지)\")\n",
    "num_2 = input(\"더하고 싶은 두번째 숫자를 입력해주세요(반드시 0~9까지)\")\n",
    "print(int(num_1) + int(num_2))\n",
    "\n",
    "num_1 = input(\"더하고 싶은 첫번째 숫자를 입력해주세요(반드시 0~9까지)\")\n",
    "num_2 = input(\"더하고 싶은 두번째 숫자를 입력해주세요(반드시 0~9까지)\")\n",
    "print(int(num_1) + int(num_2))\n",
    "\n",
    "num_1 = input(\"더하고 싶은 첫번째 숫자를 입력해주세요(반드시 0~9까지)\")\n",
    "num_2 = input(\"더하고 싶은 두번째 숫자를 입력해주세요(반드시 0~9까지)\")\n",
    "print(int(num_1) + int(num_2))"
   ]
  },
  {
   "cell_type": "code",
   "execution_count": 39,
   "metadata": {},
   "outputs": [],
   "source": [
    "def adder():\n",
    "    num_1 = input(\"더하고 싶은 첫번째 숫자를 입력해주세요(반드시 0~9까지)\")\n",
    "    num_2 = input(\"더하고 싶은 두번째 숫자를 입력해주세요(반드시 0~9까지)\")\n",
    "    result = int(num_1) + int(num_2)\n",
    "    return result"
   ]
  },
  {
   "cell_type": "code",
   "execution_count": 42,
   "metadata": {},
   "outputs": [
    {
     "name": "stdout",
     "output_type": "stream",
     "text": [
      "!!!!!\n"
     ]
    }
   ],
   "source": [
    "print(\"!!!!!\")"
   ]
  },
  {
   "cell_type": "code",
   "execution_count": 41,
   "metadata": {},
   "outputs": [
    {
     "name": "stdout",
     "output_type": "stream",
     "text": [
      "더하고 싶은 첫번째 숫자를 입력해주세요(반드시 0~9까지)3\n",
      "더하고 싶은 두번째 숫자를 입력해주세요(반드시 0~9까지)100\n"
     ]
    },
    {
     "data": {
      "text/plain": [
       "103"
      ]
     },
     "execution_count": 41,
     "metadata": {},
     "output_type": "execute_result"
    }
   ],
   "source": [
    "adder()"
   ]
  },
  {
   "cell_type": "code",
   "execution_count": 43,
   "metadata": {},
   "outputs": [],
   "source": [
    "def adder(num_1, num_2):\n",
    "    result = int(num_1) + int(num_2)\n",
    "    return result"
   ]
  },
  {
   "cell_type": "code",
   "execution_count": 44,
   "metadata": {},
   "outputs": [
    {
     "data": {
      "text/plain": [
       "15"
      ]
     },
     "execution_count": 44,
     "metadata": {},
     "output_type": "execute_result"
    }
   ],
   "source": [
    "adder(5, 10)"
   ]
  },
  {
   "cell_type": "code",
   "execution_count": 45,
   "metadata": {},
   "outputs": [
    {
     "data": {
      "text/plain": [
       "655"
      ]
     },
     "execution_count": 45,
     "metadata": {},
     "output_type": "execute_result"
    }
   ],
   "source": [
    "a = 555\n",
    "b = 100\n",
    "adder(a, b)"
   ]
  },
  {
   "cell_type": "code",
   "execution_count": 46,
   "metadata": {},
   "outputs": [
    {
     "name": "stdout",
     "output_type": "stream",
     "text": [
      "더하고 싶은 첫번째 숫자를 입력해주세요(반드시 0~9까지)3\n",
      "더하고 싶은 두번째 숫자를 입력해주세요(반드시 0~9까지)5\n"
     ]
    },
    {
     "data": {
      "text/plain": [
       "8"
      ]
     },
     "execution_count": 46,
     "metadata": {},
     "output_type": "execute_result"
    }
   ],
   "source": [
    "num_1 = input(\"더하고 싶은 첫번째 숫자를 입력해주세요(반드시 0~9까지)\")\n",
    "num_2 = input(\"더하고 싶은 두번째 숫자를 입력해주세요(반드시 0~9까지)\")\n",
    "\n",
    "adder(num_1, num_2)"
   ]
  },
  {
   "cell_type": "code",
   "execution_count": 47,
   "metadata": {},
   "outputs": [],
   "source": [
    "def adder():\n",
    "    num_1 = input(\"더하고 싶은 첫번째 숫자를 입력해주세요(반드시 0~9까지)\")\n",
    "    num_2 = input(\"더하고 싶은 두번째 숫자를 입력해주세요(반드시 0~9까지)\")\n",
    "    result = int(num_1) + int(num_2)\n",
    "    return result"
   ]
  },
  {
   "cell_type": "code",
   "execution_count": 49,
   "metadata": {},
   "outputs": [
    {
     "name": "stdout",
     "output_type": "stream",
     "text": [
      "정주은 님이 참가하셨습니다.\n",
      "정은진 님이 참가하셨습니다.\n",
      "김하영 님이 참가하셨습니다.\n",
      "염재원 님이 참가하셨습니다.\n",
      "김개똥 는 우리 학생이 아니에요!\n"
     ]
    }
   ],
   "source": [
    "출석부 = [\"정주은\", \"정은진\", \"김하영\", \"염재원\"]\n",
    "참가자 = [\"정주은\", \"정은진\", \"김하영\", \"염재원\", \"김개똥\"]\n",
    "\n",
    "for student in 참가자:\n",
    "    if(student in 출석부):\n",
    "        print(student, \"님이 참가하셨습니다.\")\n",
    "    else:\n",
    "        print(student, \"는 우리 학생이 아니에요!\")"
   ]
  },
  {
   "cell_type": "code",
   "execution_count": 50,
   "metadata": {},
   "outputs": [],
   "source": [
    "def student_list_checker(출석부, 참가자):\n",
    "    for student in 참가자:\n",
    "        if(student in 출석부):\n",
    "            print(student, \"님이 참가하셨습니다.\")\n",
    "        else:\n",
    "            print(student, \"는 우리 학생이 아니에요!\")"
   ]
  },
  {
   "cell_type": "code",
   "execution_count": 52,
   "metadata": {},
   "outputs": [],
   "source": [
    "original_student_list = [\"정주은\", \"정은진\", \"김하영\", \"염재원\"]\n",
    "today_student_list = [\"정주은\", \"정은진\", \"김하영\", \"염재원\", \"김개똥\"]"
   ]
  },
  {
   "cell_type": "code",
   "execution_count": 53,
   "metadata": {},
   "outputs": [
    {
     "name": "stdout",
     "output_type": "stream",
     "text": [
      "정주은 님이 참가하셨습니다.\n",
      "정은진 님이 참가하셨습니다.\n",
      "김하영 님이 참가하셨습니다.\n",
      "염재원 님이 참가하셨습니다.\n",
      "김개똥 는 우리 학생이 아니에요!\n"
     ]
    }
   ],
   "source": [
    "student_list_checker(original_student_list, today_student_list)"
   ]
  },
  {
   "cell_type": "markdown",
   "metadata": {},
   "source": [
    "### 구현하고 싶은 것 구현하기.\n",
    "#### 남이 만들어놓은거 가져다가 쓰기 + 내가 좀 보태기"
   ]
  },
  {
   "cell_type": "markdown",
   "metadata": {},
   "source": [
    "#### 과제를 받았는데, 특정 시간(Ex.5초) 안에 돌아가는 알고리즘을 구현하는 과제임."
   ]
  },
  {
   "cell_type": "code",
   "execution_count": 59,
   "metadata": {},
   "outputs": [],
   "source": [
    "# 정렬\n",
    "# test_ls = [3, 1, 7, 100]\n",
    "# test_ls = [1, 3, 7, 100]"
   ]
  },
  {
   "cell_type": "code",
   "execution_count": 62,
   "metadata": {},
   "outputs": [
    {
     "name": "stdout",
     "output_type": "stream",
     "text": [
      "[3, 4, 8, 55, 100]\n"
     ]
    }
   ],
   "source": [
    "test_ls = [100, 3, 8, 55, 4]\n",
    "test_ls.sort()\n",
    "print(test_ls)"
   ]
  },
  {
   "cell_type": "code",
   "execution_count": 64,
   "metadata": {},
   "outputs": [],
   "source": [
    "# 코드의 실행시간을 출력해주는 기능"
   ]
  },
  {
   "cell_type": "code",
   "execution_count": 66,
   "metadata": {},
   "outputs": [
    {
     "name": "stdout",
     "output_type": "stream",
     "text": [
      "time : 9.584426879882812e-05\n"
     ]
    }
   ],
   "source": [
    "# print() 함수 같은 애는 바로 쓸 수 있는 파이썬 내장함수\n",
    "# time 함수 같은 것들은, 내장함수이지만, import를 해야 쓸 수 있는 내장함수\n",
    "\n",
    "import time\n",
    "\n",
    "start = time.time()  # 시작 시간 저장\n",
    "print(\"time :\", time.time() - start)"
   ]
  },
  {
   "cell_type": "code",
   "execution_count": 78,
   "metadata": {},
   "outputs": [
    {
     "name": "stdout",
     "output_type": "stream",
     "text": [
      "9초 걸렸습니다.\n"
     ]
    }
   ],
   "source": [
    "import timeit\n",
    " \n",
    "start_time = timeit.default_timer() # 시작 시간 체크\n",
    "\n",
    "sum = 0\n",
    "for i in range(70000000):\n",
    "    sum += i\n",
    "    \n",
    "terminate_time = timeit.default_timer() # 종료 시간 체크  \n",
    "\n",
    "# 누가 만들어놓은 시간 재는 코드 가져다 쓰기\n",
    "# +여기에 정수로 표현해주는 것까지 추가\n",
    "\n",
    "print(\"%d초 걸렸습니다.\" % (terminate_time - start_time)) "
   ]
  },
  {
   "cell_type": "markdown",
   "metadata": {},
   "source": [
    "### 타인이 만들어놓은 것을 참고하면서부터 시작"
   ]
  },
  {
   "cell_type": "code",
   "execution_count": null,
   "metadata": {},
   "outputs": [],
   "source": []
  }
 ],
 "metadata": {
  "kernelspec": {
   "display_name": "Python 3",
   "language": "python",
   "name": "python3"
  },
  "language_info": {
   "codemirror_mode": {
    "name": "ipython",
    "version": 3
   },
   "file_extension": ".py",
   "mimetype": "text/x-python",
   "name": "python",
   "nbconvert_exporter": "python",
   "pygments_lexer": "ipython3",
   "version": "3.7.4"
  }
 },
 "nbformat": 4,
 "nbformat_minor": 2
}
