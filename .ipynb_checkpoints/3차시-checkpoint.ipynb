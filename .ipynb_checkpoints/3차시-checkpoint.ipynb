{
 "cells": [
  {
   "cell_type": "markdown",
   "metadata": {},
   "source": [
    "### 제어문\n",
    "\n",
    " - 반복문\n",
    " - 조건문"
   ]
  },
  {
   "cell_type": "markdown",
   "metadata": {},
   "source": [
    "### 반복문"
   ]
  },
  {
   "cell_type": "code",
   "execution_count": 1,
   "metadata": {},
   "outputs": [],
   "source": [
    "# Python -> For & While"
   ]
  },
  {
   "cell_type": "code",
   "execution_count": 2,
   "metadata": {},
   "outputs": [],
   "source": [
    "# for 변수 in List(또는 문자열이나 ... 등):\n",
    "#     실행할 문장\n",
    "#     실행할 문장\n",
    "#     실행할 문장 ..."
   ]
  },
  {
   "cell_type": "code",
   "execution_count": 3,
   "metadata": {},
   "outputs": [],
   "source": [
    "# for(int i=0; i<10; i++) {\n",
    "#     printf(\"%s\", i);\n",
    "# }"
   ]
  },
  {
   "cell_type": "code",
   "execution_count": 4,
   "metadata": {},
   "outputs": [
    {
     "name": "stdout",
     "output_type": "stream",
     "text": [
      "0\n",
      "1\n",
      "2\n",
      "3\n",
      "4\n",
      "5\n",
      "6\n",
      "7\n",
      "8\n",
      "9\n"
     ]
    }
   ],
   "source": [
    "for i in range(10):\n",
    "    print(i)"
   ]
  },
  {
   "cell_type": "code",
   "execution_count": 6,
   "metadata": {},
   "outputs": [],
   "source": [
    "# range 함수 => range(parameter)\n",
    "# 숫자 배열을 만들어준다."
   ]
  },
  {
   "cell_type": "code",
   "execution_count": 8,
   "metadata": {},
   "outputs": [
    {
     "data": {
      "text/plain": [
       "range(0, 10)"
      ]
     },
     "execution_count": 8,
     "metadata": {},
     "output_type": "execute_result"
    }
   ],
   "source": [
    "range(10) #주의점 : 넣은 값에서 -1 된다."
   ]
  },
  {
   "cell_type": "code",
   "execution_count": 11,
   "metadata": {},
   "outputs": [
    {
     "data": {
      "text/plain": [
       "True"
      ]
     },
     "execution_count": 11,
     "metadata": {},
     "output_type": "execute_result"
    }
   ],
   "source": [
    "range(10) == range(0, 10)"
   ]
  },
  {
   "cell_type": "code",
   "execution_count": 14,
   "metadata": {},
   "outputs": [],
   "source": [
    "a = 1"
   ]
  },
  {
   "cell_type": "code",
   "execution_count": 16,
   "metadata": {
    "scrolled": true
   },
   "outputs": [
    {
     "data": {
      "text/plain": [
       "False"
      ]
     },
     "execution_count": 16,
     "metadata": {},
     "output_type": "execute_result"
    }
   ],
   "source": [
    "a == 2"
   ]
  },
  {
   "cell_type": "code",
   "execution_count": 17,
   "metadata": {},
   "outputs": [],
   "source": [
    "number_list = [1,3,5,7,9]"
   ]
  },
  {
   "cell_type": "code",
   "execution_count": 18,
   "metadata": {},
   "outputs": [
    {
     "name": "stdout",
     "output_type": "stream",
     "text": [
      "1\n",
      "3\n",
      "5\n",
      "7\n",
      "9\n"
     ]
    }
   ],
   "source": [
    "for value in number_list:\n",
    "    print(value)"
   ]
  },
  {
   "cell_type": "code",
   "execution_count": 19,
   "metadata": {},
   "outputs": [],
   "source": [
    "# 내가 1~9까지 숫자를 딱히 사용할 필요는 없는데... 나는 뭔가를 10번 반복하고 싶어.\n",
    "# Ex. 안녕하세요를 10번 출력하고 싶어."
   ]
  },
  {
   "cell_type": "code",
   "execution_count": 20,
   "metadata": {},
   "outputs": [
    {
     "name": "stdout",
     "output_type": "stream",
     "text": [
      "안녕하세요\n",
      "안녕하세요\n",
      "안녕하세요\n",
      "안녕하세요\n",
      "안녕하세요\n",
      "안녕하세요\n",
      "안녕하세요\n",
      "안녕하세요\n",
      "안녕하세요\n",
      "안녕하세요\n"
     ]
    }
   ],
   "source": [
    "print(\"안녕하세요\")\n",
    "print(\"안녕하세요\")\n",
    "print(\"안녕하세요\")\n",
    "print(\"안녕하세요\")\n",
    "print(\"안녕하세요\")\n",
    "print(\"안녕하세요\")\n",
    "print(\"안녕하세요\")\n",
    "print(\"안녕하세요\")\n",
    "print(\"안녕하세요\")\n",
    "print(\"안녕하세요\")"
   ]
  },
  {
   "cell_type": "code",
   "execution_count": 22,
   "metadata": {},
   "outputs": [],
   "source": [
    "# 만약에... 안녕하세요를 1만번 출력해야 된다면?"
   ]
  },
  {
   "cell_type": "code",
   "execution_count": 24,
   "metadata": {},
   "outputs": [
    {
     "data": {
      "text/plain": [
       "range(0, 10000)"
      ]
     },
     "execution_count": 24,
     "metadata": {},
     "output_type": "execute_result"
    }
   ],
   "source": [
    "range(10000) # 왜 -1이 되냐? ... 1부터 시작하는게 아니라, 0부터 시작하니까."
   ]
  },
  {
   "cell_type": "code",
   "execution_count": 93,
   "metadata": {
    "scrolled": true
   },
   "outputs": [],
   "source": [
    "# for i in range(10000):\n",
    "#     print(\"안녕하세요\")"
   ]
  },
  {
   "cell_type": "code",
   "execution_count": 28,
   "metadata": {},
   "outputs": [],
   "source": [
    "class_name = \"Python_Tutoring\""
   ]
  },
  {
   "cell_type": "code",
   "execution_count": 29,
   "metadata": {},
   "outputs": [
    {
     "name": "stdout",
     "output_type": "stream",
     "text": [
      "P\n",
      "y\n",
      "t\n",
      "h\n",
      "o\n",
      "n\n",
      "_\n",
      "T\n",
      "u\n",
      "t\n",
      "o\n",
      "r\n",
      "i\n",
      "n\n",
      "g\n"
     ]
    }
   ],
   "source": [
    "for i in class_name:\n",
    "    print(i)"
   ]
  },
  {
   "cell_type": "code",
   "execution_count": 31,
   "metadata": {},
   "outputs": [
    {
     "name": "stdout",
     "output_type": "stream",
     "text": [
      "정주은\n",
      "정은진\n",
      "김하영\n",
      "염재원\n"
     ]
    }
   ],
   "source": [
    "# for 예시\n",
    "stud_ls = [\"정주은\", \"정은진\", \"김하영\", \"염재원\"]\n",
    "\n",
    "for i in stud_ls:\n",
    "    print(i)"
   ]
  },
  {
   "cell_type": "code",
   "execution_count": 35,
   "metadata": {},
   "outputs": [
    {
     "name": "stdout",
     "output_type": "stream",
     "text": [
      "정주은\n",
      "정은진\n"
     ]
    }
   ],
   "source": [
    "print(\"정주은\")\n",
    "print(\"정은진\")\n",
    "# ..."
   ]
  },
  {
   "cell_type": "code",
   "execution_count": 48,
   "metadata": {},
   "outputs": [
    {
     "name": "stdout",
     "output_type": "stream",
     "text": [
      "1 번째 학생 정주은 입니다.\n",
      "2 번째 학생 정은진 입니다.\n",
      "3 번째 학생 김하영 입니다.\n",
      "4 번째 학생 염재원 입니다.\n"
     ]
    }
   ],
   "source": [
    "# enumerate\n",
    "\n",
    "for index, student in enumerate(stud_ls):\n",
    "    print(index+1, \"번째 학생\", student, \"입니다.\")"
   ]
  },
  {
   "cell_type": "code",
   "execution_count": 49,
   "metadata": {},
   "outputs": [],
   "source": [
    "# While 반복문"
   ]
  },
  {
   "cell_type": "code",
   "execution_count": 64,
   "metadata": {},
   "outputs": [],
   "source": [
    "# while(조건):\n",
    "#    실행시킬 내용\n",
    "#    실행시킬 내용 ...\n",
    "\n",
    "# 조건이 참인 경우에 한해, 계속 실행한다..."
   ]
  },
  {
   "cell_type": "code",
   "execution_count": 52,
   "metadata": {},
   "outputs": [],
   "source": [
    "# 조건에 대해서 간단히... 알아봐야 되는데요.\n",
    "# Bool "
   ]
  },
  {
   "cell_type": "code",
   "execution_count": 62,
   "metadata": {},
   "outputs": [
    {
     "data": {
      "text/plain": [
       "True"
      ]
     },
     "execution_count": 62,
     "metadata": {},
     "output_type": "execute_result"
    }
   ],
   "source": [
    "a = 1\n",
    "a == 1 \n",
    "\n",
    "# == 같다, != 같지 않다"
   ]
  },
  {
   "cell_type": "code",
   "execution_count": 63,
   "metadata": {},
   "outputs": [],
   "source": [
    "# 부등호도 사용 가능"
   ]
  },
  {
   "cell_type": "code",
   "execution_count": 94,
   "metadata": {
    "scrolled": true
   },
   "outputs": [],
   "source": [
    "# while(True):\n",
    "#     print(\"안녕\")"
   ]
  },
  {
   "cell_type": "code",
   "execution_count": 74,
   "metadata": {},
   "outputs": [
    {
     "name": "stdout",
     "output_type": "stream",
     "text": [
      "현재 counter는 10 입니다.\n",
      "현재 counter는 9 입니다.\n",
      "현재 counter는 8 입니다.\n",
      "현재 counter는 7 입니다.\n",
      "현재 counter는 6 입니다.\n",
      "현재 counter는 5 입니다.\n",
      "현재 counter는 4 입니다.\n",
      "현재 counter는 3 입니다.\n",
      "현재 counter는 2 입니다.\n",
      "현재 counter는 1 입니다.\n"
     ]
    }
   ],
   "source": [
    "counter = 10\n",
    "while(counter > 0):\n",
    "    print(\"현재 counter는\", counter, \"입니다.\")\n",
    "    counter = counter-1"
   ]
  },
  {
   "cell_type": "code",
   "execution_count": 77,
   "metadata": {},
   "outputs": [
    {
     "name": "stdout",
     "output_type": "stream",
     "text": [
      "현재 counter는 1 입니다.\n",
      "현재 counter는 2 입니다.\n",
      "현재 counter는 3 입니다.\n",
      "현재 counter는 4 입니다.\n",
      "현재 counter는 5 입니다.\n",
      "현재 counter는 6 입니다.\n",
      "현재 counter는 7 입니다.\n",
      "현재 counter는 8 입니다.\n",
      "현재 counter는 9 입니다.\n",
      "현재 counter는 10 입니다.\n"
     ]
    }
   ],
   "source": [
    "counter_2 = 1\n",
    "while(counter_2 < 11):\n",
    "    print(\"현재 counter는\", counter_2, \"입니다.\")\n",
    "    counter_2 = counter_2+1"
   ]
  },
  {
   "cell_type": "code",
   "execution_count": 78,
   "metadata": {},
   "outputs": [
    {
     "name": "stdout",
     "output_type": "stream",
     "text": [
      "안녕하세요\n",
      "안녕하세요\n",
      "안녕하세요\n",
      "안녕하세요\n",
      "안녕하세요\n",
      "안녕하세요\n",
      "안녕하세요\n",
      "안녕하세요\n",
      "안녕하세요\n",
      "안녕하세요\n"
     ]
    }
   ],
   "source": [
    "count = 0\n",
    "while(True): # Infinity Loop\n",
    "    print(\"안녕하세요\")\n",
    "    count = count + 1\n",
    "    if count==10:\n",
    "        break\n",
    "    "
   ]
  },
  {
   "cell_type": "code",
   "execution_count": 82,
   "metadata": {},
   "outputs": [],
   "source": [
    "# 조건문\n",
    "\n",
    "# If문\n",
    "\n",
    "# if(조건):\n",
    "#    실행시킬 문장\n",
    "#    실행시킬 문장\n",
    "#    실행시킬 문장..."
   ]
  },
  {
   "cell_type": "code",
   "execution_count": 84,
   "metadata": {},
   "outputs": [
    {
     "name": "stdout",
     "output_type": "stream",
     "text": [
      "10이 아니다\n"
     ]
    }
   ],
   "source": [
    "ex_value = 9\n",
    "if(ex_value != 10):\n",
    "    print(\"10이 아니다\")"
   ]
  },
  {
   "cell_type": "code",
   "execution_count": null,
   "metadata": {},
   "outputs": [],
   "source": [
    "# in 함수 => A in B = A가 B에 속해있니? => True or False를 반환"
   ]
  },
  {
   "cell_type": "code",
   "execution_count": 87,
   "metadata": {},
   "outputs": [],
   "source": [
    "출석부 = [\"정주은\", \"정은진\", \"김하영\", \"염재원\"]\n",
    "참가자 = [\"정주은\", \"정은진\", \"김하영\", \"염재원\", \"김개똥\"]"
   ]
  },
  {
   "cell_type": "code",
   "execution_count": 90,
   "metadata": {
    "scrolled": true
   },
   "outputs": [
    {
     "name": "stdout",
     "output_type": "stream",
     "text": [
      "정주은 님이 참가하셨습니다.\n",
      "정은진 님이 참가하셨습니다.\n",
      "김하영 님이 참가하셨습니다.\n",
      "염재원 님이 참가하셨습니다.\n",
      "김개똥 는 우리 학생이 아니에요!\n"
     ]
    }
   ],
   "source": [
    "for student in 참가자:\n",
    "    if(student in 출석부):\n",
    "        print(student, \"님이 참가하셨습니다.\")\n",
    "    else:\n",
    "        print(student, \"는 우리 학생이 아니에요!\")"
   ]
  },
  {
   "cell_type": "code",
   "execution_count": 91,
   "metadata": {},
   "outputs": [],
   "source": [
    "# if , elif (else if의 줄임말), else "
   ]
  },
  {
   "cell_type": "code",
   "execution_count": 92,
   "metadata": {},
   "outputs": [],
   "source": [
    "# if(조건 A):\n",
    "#     조건 A에 해당하면 실행되는 코드 부분\n",
    "# elif(조건 B):\n",
    "#     조건 A에서 걸리지 않았다면, 조건 B를 검사해서 맞으면 실행되는 코드 부분\n",
    "# elif(조건 C):\n",
    "#     조건 A, B 둘다 안 걸렸고, 조건 C에서 걸렸으면(True면) 실행되는 코드 부분\n",
    "# else:\n",
    "#     위에서 If, elif 조건에 모두 안 걸렸으면 실행되는 코드 부분"
   ]
  },
  {
   "cell_type": "code",
   "execution_count": null,
   "metadata": {},
   "outputs": [],
   "source": []
  }
 ],
 "metadata": {
  "kernelspec": {
   "display_name": "Python 3",
   "language": "python",
   "name": "python3"
  },
  "language_info": {
   "codemirror_mode": {
    "name": "ipython",
    "version": 3
   },
   "file_extension": ".py",
   "mimetype": "text/x-python",
   "name": "python",
   "nbconvert_exporter": "python",
   "pygments_lexer": "ipython3",
   "version": "3.7.4"
  }
 },
 "nbformat": 4,
 "nbformat_minor": 2
}
